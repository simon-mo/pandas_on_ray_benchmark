{
 "cells": [
  {
   "cell_type": "markdown",
   "metadata": {},
   "source": [
    "# Compile Script"
   ]
  },
  {
   "cell_type": "markdown",
   "metadata": {},
   "source": [
    "We compile the shell script for experiments"
   ]
  },
  {
   "cell_type": "code",
   "execution_count": 1,
   "metadata": {},
   "outputs": [],
   "source": [
    "exprs = [\n",
    "    # basic numeric\n",
    "    \"df.sum()\",\n",
    "    \"df.sum(axis=1)\",\n",
    "    \"df.median()\",\n",
    "    \"df.median(axis=1)\",\n",
    "    \"df.std()\",\n",
    "    \"df.std(axis=1)\",\n",
    "    # transpose\n",
    "    \"wait(df.T)\",\n",
    "    # apply \n",
    "    \"wait(df.apply(lambda x:x))\",\n",
    "    \"df.apply('sum')\",\n",
    "    \"df.apply('median')\",\n",
    "    \"df.apply('std')\",\n",
    "    # sort\n",
    "    \"wait(df.sort_values(df.columns[0]))\",\n",
    "    \"wait(df.sort_values(df.columns))\",\n",
    "    \"df.idxmin()\",\n",
    "    # nunique\n",
    "    \"df.nunique()\",\n",
    "    \"df.nunique(axis=1)\"\n",
    "]"
   ]
  },
  {
   "cell_type": "code",
   "execution_count": 2,
   "metadata": {},
   "outputs": [],
   "source": [
    "runners = ['ray', 'pandas']"
   ]
  },
  {
   "cell_type": "code",
   "execution_count": 3,
   "metadata": {},
   "outputs": [],
   "source": [
    "data = [\n",
    "    'data/coarse_tall.pq',\n",
    "    'data/coarse_wide.pq',\n",
    "    'data/fine_tall.pq'\n",
    "]"
   ]
  },
  {
   "cell_type": "code",
   "execution_count": 4,
   "metadata": {},
   "outputs": [],
   "source": [
    "num_cpus = [1,4,8,16,32,64]"
   ]
  },
  {
   "cell_type": "code",
   "execution_count": 5,
   "metadata": {},
   "outputs": [],
   "source": [
    "import pandas as pd"
   ]
  },
  {
   "cell_type": "code",
   "execution_count": 40,
   "metadata": {},
   "outputs": [],
   "source": [
    "from itertools import product, chain"
   ]
  },
  {
   "cell_type": "code",
   "execution_count": 9,
   "metadata": {},
   "outputs": [],
   "source": [
    "all_combination = list(product(exprs, runners, data, num_cpus))"
   ]
  },
  {
   "cell_type": "code",
   "execution_count": 16,
   "metadata": {},
   "outputs": [],
   "source": [
    "df = pd.DataFrame.from_records(all_combination, columns=['--expr', '--runner', '--data', '--num-cpus'])"
   ]
  },
  {
   "cell_type": "code",
   "execution_count": 17,
   "metadata": {},
   "outputs": [
    {
     "data": {
      "text/html": [
       "<div>\n",
       "<style scoped>\n",
       "    .dataframe tbody tr th:only-of-type {\n",
       "        vertical-align: middle;\n",
       "    }\n",
       "\n",
       "    .dataframe tbody tr th {\n",
       "        vertical-align: top;\n",
       "    }\n",
       "\n",
       "    .dataframe thead th {\n",
       "        text-align: right;\n",
       "    }\n",
       "</style>\n",
       "<table border=\"1\" class=\"dataframe\">\n",
       "  <thead>\n",
       "    <tr style=\"text-align: right;\">\n",
       "      <th></th>\n",
       "      <th>--expr</th>\n",
       "      <th>--runner</th>\n",
       "      <th>--data</th>\n",
       "      <th>--num-cpus</th>\n",
       "    </tr>\n",
       "  </thead>\n",
       "  <tbody>\n",
       "    <tr>\n",
       "      <th>0</th>\n",
       "      <td>df.sum()</td>\n",
       "      <td>ray</td>\n",
       "      <td>data/coarse_tall.pq</td>\n",
       "      <td>1</td>\n",
       "    </tr>\n",
       "    <tr>\n",
       "      <th>1</th>\n",
       "      <td>df.sum()</td>\n",
       "      <td>ray</td>\n",
       "      <td>data/coarse_tall.pq</td>\n",
       "      <td>4</td>\n",
       "    </tr>\n",
       "    <tr>\n",
       "      <th>2</th>\n",
       "      <td>df.sum()</td>\n",
       "      <td>ray</td>\n",
       "      <td>data/coarse_tall.pq</td>\n",
       "      <td>8</td>\n",
       "    </tr>\n",
       "    <tr>\n",
       "      <th>3</th>\n",
       "      <td>df.sum()</td>\n",
       "      <td>ray</td>\n",
       "      <td>data/coarse_tall.pq</td>\n",
       "      <td>16</td>\n",
       "    </tr>\n",
       "    <tr>\n",
       "      <th>4</th>\n",
       "      <td>df.sum()</td>\n",
       "      <td>ray</td>\n",
       "      <td>data/coarse_tall.pq</td>\n",
       "      <td>32</td>\n",
       "    </tr>\n",
       "  </tbody>\n",
       "</table>\n",
       "</div>"
      ],
      "text/plain": [
       "     --expr --runner               --data  --num-cpus\n",
       "0  df.sum()      ray  data/coarse_tall.pq           1\n",
       "1  df.sum()      ray  data/coarse_tall.pq           4\n",
       "2  df.sum()      ray  data/coarse_tall.pq           8\n",
       "3  df.sum()      ray  data/coarse_tall.pq          16\n",
       "4  df.sum()      ray  data/coarse_tall.pq          32"
      ]
     },
     "execution_count": 17,
     "metadata": {},
     "output_type": "execute_result"
    }
   ],
   "source": [
    "df.head()"
   ]
  },
  {
   "cell_type": "code",
   "execution_count": 36,
   "metadata": {},
   "outputs": [],
   "source": [
    "df['--expr'] = df['--expr'].apply(lambda x:f'\"{x}\"')"
   ]
  },
  {
   "cell_type": "code",
   "execution_count": 37,
   "metadata": {},
   "outputs": [],
   "source": [
    "final = df[~((df['--runner'] == 'pandas') & (df['--num-cpus'] != 1))]"
   ]
  },
  {
   "cell_type": "code",
   "execution_count": 38,
   "metadata": {},
   "outputs": [],
   "source": [
    "f = next(df.iterrows())[1]"
   ]
  },
  {
   "cell_type": "code",
   "execution_count": 47,
   "metadata": {},
   "outputs": [],
   "source": [
    "with open('run.sh','w') as f:\n",
    "    for idx, series in df.iterrows():\n",
    "        cmd = ' '.join(map(str, chain.from_iterable(series.iteritems())))\n",
    "        f.write(f\"python runner.py {cmd} --log-dir logs\\n\")"
   ]
  },
  {
   "cell_type": "code",
   "execution_count": null,
   "metadata": {},
   "outputs": [],
   "source": []
  }
 ],
 "metadata": {
  "kernelspec": {
   "display_name": "Python 3",
   "language": "python",
   "name": "python3"
  },
  "language_info": {
   "codemirror_mode": {
    "name": "ipython",
    "version": 3
   },
   "file_extension": ".py",
   "mimetype": "text/x-python",
   "name": "python",
   "nbconvert_exporter": "python",
   "pygments_lexer": "ipython3",
   "version": "3.6.5"
  }
 },
 "nbformat": 4,
 "nbformat_minor": 2
}
