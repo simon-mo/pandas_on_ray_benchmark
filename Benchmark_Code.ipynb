{
 "cells": [
  {
   "cell_type": "markdown",
   "metadata": {},
   "source": [
    "Benchmark Scripts"
   ]
  },
  {
   "cell_type": "code",
   "execution_count": 1,
   "metadata": {},
   "outputs": [],
   "source": [
    "import os\n",
    "os.environ['PD_ON_RAY_CPU']  = str(4)"
   ]
  },
  {
   "cell_type": "code",
   "execution_count": 90,
   "metadata": {},
   "outputs": [],
   "source": [
    "NUM_CPUS = 4\n",
    "data_path = 'data/sample.pq'\n",
    "use_pandas = False"
   ]
  },
  {
   "cell_type": "code",
   "execution_count": 4,
   "metadata": {},
   "outputs": [
    {
     "name": "stdout",
     "output_type": "stream",
     "text": [
      "Process STDOUT and STDERR is being redirected to /tmp/raylogs/.\n",
      "Waiting for redis server at 127.0.0.1:17381 to respond...\n",
      "Waiting for redis server at 127.0.0.1:57495 to respond...\n",
      "Starting local scheduler with the following resources: {'CPU': 4, 'GPU': 0}.\n",
      "\n",
      "======================================================================\n",
      "View the web UI at http://localhost:8889/notebooks/ray_ui80067.ipynb?token=4ffa8ecad83936c31d61cf8744a531f4db896817cee92c8a\n",
      "======================================================================\n",
      "\n",
      "Process STDOUT and STDERR is being redirected to /tmp/raylogs/.\n",
      "Waiting for redis server at 127.0.0.1:30981 to respond...\n",
      "Waiting for redis server at 127.0.0.1:50159 to respond...\n"
     ]
    }
   ],
   "source": [
    "import ray\n",
    "ray.init(num_cpus=num_cpus)\n",
    "\n",
    "import ray.dataframe as rdf"
   ]
  },
  {
   "cell_type": "code",
   "execution_count": 38,
   "metadata": {},
   "outputs": [],
   "source": [
    "import time\n",
    "import json"
   ]
  },
  {
   "cell_type": "code",
   "execution_count": 89,
   "metadata": {},
   "outputs": [],
   "source": [
    "import pandas as pd"
   ]
  },
  {
   "cell_type": "code",
   "execution_count": 91,
   "metadata": {},
   "outputs": [],
   "source": [
    "if use_pandas:\n",
    "    df = pd.read_parquet(data_path)\n",
    "else:\n",
    "    df = rdf.read_parquet(data_path)"
   ]
  },
  {
   "cell_type": "code",
   "execution_count": 57,
   "metadata": {},
   "outputs": [],
   "source": [
    "def wait(df):\n",
    "    if hasattr(df, \"_block_partitions\"):\n",
    "        blocks = list(df._block_partitions.flatten())\n",
    "        completed = ray.wait(blocks, num_returns=len(blocks)) #blocking"
   ]
  },
  {
   "cell_type": "code",
   "execution_count": 92,
   "metadata": {},
   "outputs": [],
   "source": [
    "exprs = [\n",
    "    # basic numeric\n",
    "    \"df.sum()\",\n",
    "    \"df.sum(axis=1)\",\n",
    "    \"df.median()\",\n",
    "    \"df.median(axis=1)\",\n",
    "    \"df.std()\",\n",
    "    \"df.std(axis=1)\",\n",
    "    # transpose\n",
    "    \"wait(df.T)\",\n",
    "    # apply \n",
    "    \"wait(df.apply(lambda x:x))\",\n",
    "    \"df.apply('sum')\",\n",
    "    \"df.apply('median')\",\n",
    "    \"df.apply('std')\",\n",
    "    # sort\n",
    "    \"wait(df.sort_values(df.columns[0]))\",\n",
    "    \"wait(df.sort_values(df.columns))\",\n",
    "    \"df.idxmin()\",\n",
    "    # nunique\n",
    "    \"df.nunique()\",\n",
    "    \"df.nunique(axis=1)\"\n",
    "]"
   ]
  },
  {
   "cell_type": "code",
   "execution_count": 93,
   "metadata": {},
   "outputs": [],
   "source": [
    "def prof(expr):\n",
    "    start = time.time()\n",
    "    exec(expr)\n",
    "    end = time.time()\n",
    "    duration_sec = end - start\n",
    "    return duration_sec"
   ]
  },
  {
   "cell_type": "code",
   "execution_count": 94,
   "metadata": {},
   "outputs": [
    {
     "data": {
      "text/plain": [
       "{'df.sum()': 0.022571086883544922,\n",
       " 'df.sum(axis=1)': 0.024512529373168945,\n",
       " 'df.median()': 0.03245282173156738,\n",
       " 'df.median(axis=1)': 0.030565500259399414,\n",
       " 'df.std()': 0.0168912410736084,\n",
       " 'df.std(axis=1)': 0.022594213485717773,\n",
       " 'wait(df.T)': 0.018785953521728516,\n",
       " 'wait(df.apply(lambda x:x))': 0.04767251014709473,\n",
       " \"df.apply('sum')\": 0.0192873477935791,\n",
       " \"df.apply('median')\": 0.017460346221923828,\n",
       " \"df.apply('std')\": 0.01680731773376465,\n",
       " 'wait(df.sort_values(df.columns[0]))': 0.03315448760986328,\n",
       " 'wait(df.sort_values(df.columns))': 0.04571247100830078,\n",
       " 'df.idxmin()': 0.022420406341552734,\n",
       " 'df.nunique()': 0.015996456146240234,\n",
       " 'df.nunique(axis=1)': 0.04495549201965332}"
      ]
     },
     "execution_count": 94,
     "metadata": {},
     "output_type": "execute_result"
    }
   ],
   "source": [
    "{expr:prof(expr) for expr in exprs}"
   ]
  },
  {
   "cell_type": "code",
   "execution_count": null,
   "metadata": {},
   "outputs": [],
   "source": []
  }
 ],
 "metadata": {
  "kernelspec": {
   "display_name": "Python 3",
   "language": "python",
   "name": "python3"
  },
  "language_info": {
   "codemirror_mode": {
    "name": "ipython",
    "version": 3
   },
   "file_extension": ".py",
   "mimetype": "text/x-python",
   "name": "python",
   "nbconvert_exporter": "python",
   "pygments_lexer": "ipython3",
   "version": "3.6.5"
  }
 },
 "nbformat": 4,
 "nbformat_minor": 2
}
