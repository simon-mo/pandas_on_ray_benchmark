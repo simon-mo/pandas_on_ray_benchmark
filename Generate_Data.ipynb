{
 "cells": [
  {
   "cell_type": "markdown",
   "metadata": {},
   "source": [
    "# Data Generation\n",
    "In this notebook, we generate 3 mixed typed numeric only dataframe, each about 1.5GB:\n",
    "1. \"Coarse Grain Mixed\", Tall DataFrame composed of 5 `int8` columns, 5 `float64` columns, 5 `int64` columns\n",
    "2. \"Fine Grain Mixed\", Tall DataFrame composed of 3 `int8`, 3 `int16`, 3 `int32`, 3 `int64`, 5 `float16`, 5 `float32`, 5 `float64`\n",
    "3. \"Coarse Grain Mixed\", Wide DataFrame composed of 5000 `int8`, 50 `float64` columns, 50 `int64` columns"
   ]
  },
  {
   "cell_type": "code",
   "execution_count": 1,
   "metadata": {},
   "outputs": [],
   "source": [
    "import pandas as pd\n",
    "import numpy as np"
   ]
  },
  {
   "cell_type": "code",
   "execution_count": 2,
   "metadata": {},
   "outputs": [],
   "source": [
    "coarse_dtype = [np.int8, np.int64, np.float64]\n",
    "fine_dtype = [np.int8, np.int16, np.int32, np.int64, np.float16, np.float32, np.float64]"
   ]
  },
  {
   "cell_type": "code",
   "execution_count": 3,
   "metadata": {},
   "outputs": [],
   "source": [
    "data_dtypes = {\n",
    "    'coarse_tall': coarse_dtype*5,\n",
    "    'fine_tall': fine_dtype*3,\n",
    "    'coarse_wide': coarse_dtype*5000\n",
    "}"
   ]
  },
  {
   "cell_type": "code",
   "execution_count": 4,
   "metadata": {},
   "outputs": [
    {
     "data": {
      "text/plain": [
       "{'coarse_tall': 85, 'fine_tall': 87, 'coarse_wide': 85000}"
      ]
     },
     "execution_count": 4,
     "metadata": {},
     "output_type": "execute_result"
    }
   ],
   "source": [
    "bytes_per_row = {\n",
    "    key: np.sum([np.array(1, dtype=dtype).nbytes for dtype in types]) for key, types in data_dtypes.items()\n",
    "}\n",
    "bytes_per_row"
   ]
  },
  {
   "cell_type": "code",
   "execution_count": 5,
   "metadata": {},
   "outputs": [],
   "source": [
    "total_bytes = 1.5e9"
   ]
  },
  {
   "cell_type": "code",
   "execution_count": 6,
   "metadata": {},
   "outputs": [
    {
     "data": {
      "text/plain": [
       "{'coarse_tall': 17647058, 'fine_tall': 17241379, 'coarse_wide': 17647}"
      ]
     },
     "execution_count": 6,
     "metadata": {},
     "output_type": "execute_result"
    }
   ],
   "source": [
    "num_rows = {\n",
    "    key: int(total_bytes/per_row) for key, per_row in bytes_per_row.items()\n",
    "}\n",
    "num_rows"
   ]
  },
  {
   "cell_type": "markdown",
   "metadata": {},
   "source": [
    "Data are generated first as numpy random matrix, each item can be `[-1000,1000]`, then they are cast to corresponding type"
   ]
  },
  {
   "cell_type": "code",
   "execution_count": 7,
   "metadata": {},
   "outputs": [],
   "source": [
    "from multiprocessing import Pool\n",
    "\n",
    "def save_dataframe(key_and_types):\n",
    "    key, types = key_and_types\n",
    "    n_rows = num_rows[key]\n",
    "    matrix = np.random.randn(n_rows, len(types))\n",
    "    dataframe = pd.DataFrame(\n",
    "        matrix, \n",
    "        columns=np.arange(len(types)).astype(str)).astype({\n",
    "        str(i): column_dtype for i, column_dtype in enumerate(types)\n",
    "    })\n",
    "    dataframe.to_parquet(f\"data/{key}.pq\",engine='fastparquet', compression=None)\n",
    "\n",
    "with Pool(3) as p:\n",
    "    p.map(save_dataframe, list(data_dtypes.items()))"
   ]
  },
  {
   "cell_type": "markdown",
   "metadata": {},
   "source": [
    "Creating sample data for scripting"
   ]
  },
  {
   "cell_type": "code",
   "execution_count": 10,
   "metadata": {},
   "outputs": [],
   "source": [
    "pd.DataFrame({\n",
    "    'a': np.random.randint(0, 500, size=500),\n",
    "    'b': np.random.randn(500)\n",
    "}).to_parquet('data/sample.pq')"
   ]
  }
 ],
 "metadata": {
  "kernelspec": {
   "display_name": "Python 3",
   "language": "python",
   "name": "python3"
  },
  "language_info": {
   "codemirror_mode": {
    "name": "ipython",
    "version": 3
   },
   "file_extension": ".py",
   "mimetype": "text/x-python",
   "name": "python",
   "nbconvert_exporter": "python",
   "pygments_lexer": "ipython3",
   "version": "3.6.5"
  }
 },
 "nbformat": 4,
 "nbformat_minor": 2
}
